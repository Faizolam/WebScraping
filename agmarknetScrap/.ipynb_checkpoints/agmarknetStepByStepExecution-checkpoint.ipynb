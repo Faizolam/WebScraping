{
 "cells": [
  {
   "cell_type": "markdown",
   "metadata": {
    "id": "zqH3asJSaD2t"
   },
   "source": [
    "### Use the requests library to send http requests using Python and get response data (content, encoding, status, etc)."
   ]
  },
  {
   "cell_type": "code",
   "execution_count": 1,
   "metadata": {
    "id": "oWUwZ-8CY3-6"
   },
   "outputs": [],
   "source": [
    "# import libraries\n",
    "import requests\n",
    "import pandas as pd"
   ]
  },
  {
   "cell_type": "code",
   "execution_count": 2,
   "metadata": {
    "id": "EAsdMXTAZcbw"
   },
   "outputs": [],
   "source": [
    "#url \n",
    "tomatoUrl = 'https://agmarknet.gov.in/SearchCmmMkt.aspx?Tx_Commodity=78&Tx_State=MH&Tx_District=14&Tx_Market=0&DateFrom=20-Oct-2022&DateTo=21-Oct-2022&Fr_Date=20-Oct-2022&To_Date=21-Oct-2022&Tx_Trend=0&Tx_CommodityHead=Tomato&Tx_StateHead=Maharashtra&Tx_DistrictHead=Pune&Tx_MarketHead=--Select--'"
   ]
  },
  {
   "cell_type": "code",
   "execution_count": 3,
   "metadata": {
    "id": "FEcp7Z3AaXEt"
   },
   "outputs": [],
   "source": [
    "response=requests.get(tomatoUrl)"
   ]
  },
  {
   "cell_type": "code",
   "execution_count": 4,
   "metadata": {
    "colab": {
     "base_uri": "https://localhost:8080/"
    },
    "id": "9z4O4mqBamEL",
    "outputId": "ac32b2a5-ed33-4759-95c5-b99ed657660a"
   },
   "outputs": [
    {
     "data": {
      "text/plain": [
       "200"
      ]
     },
     "execution_count": 4,
     "metadata": {},
     "output_type": "execute_result"
    }
   ],
   "source": [
    "# .status_codes mean check requests successful or not if 200 -299 means requests is success.\n",
    "response.status_code"
   ]
  },
  {
   "cell_type": "code",
   "execution_count": 5,
   "metadata": {
    "colab": {
     "base_uri": "https://localhost:8080/",
     "height": 36
    },
    "id": "SQxd5g7L5yOI",
    "outputId": "6beceb3b-40e8-47f6-f404-9a16e3b4d6b0"
   },
   "outputs": [
    {
     "data": {
      "text/plain": [
       "'utf-8'"
      ]
     },
     "execution_count": 5,
     "metadata": {},
     "output_type": "execute_result"
    }
   ],
   "source": [
    "#check encoding\n",
    "response.encoding"
   ]
  },
  {
   "cell_type": "code",
   "execution_count": 6,
   "metadata": {
    "colab": {
     "base_uri": "https://localhost:8080/"
    },
    "id": "AM5oivQ06Ecd",
    "outputId": "b10e4903-5c52-4c93-95fe-1f8e02fe35a1"
   },
   "outputs": [
    {
     "data": {
      "text/plain": [
       "116388"
      ]
     },
     "execution_count": 6,
     "metadata": {},
     "output_type": "execute_result"
    }
   ],
   "source": [
    "# length of response.text\n",
    "len(response.text)"
   ]
  },
  {
   "cell_type": "code",
   "execution_count": 7,
   "metadata": {
    "id": "sBoq_YEoZVIC"
   },
   "outputs": [],
   "source": [
    "pageContents = response.text"
   ]
  },
  {
   "cell_type": "code",
   "execution_count": 8,
   "metadata": {
    "colab": {
     "base_uri": "https://localhost:8080/",
     "height": 127
    },
    "id": "anRhlXaebwKd",
    "outputId": "ff52cf51-1b85-470d-c5a0-b664443dade1"
   },
   "outputs": [
    {
     "data": {
      "text/plain": [
       "'\\r\\n<!DOCTYPE html PUBLIC \"-//W3C//DTD XHTML 1.0 Transitional//EN\" \"http://www.w3.org/TR/xhtml1/DTD/xhtml1-transitional.dtd\">\\r\\n<html xmlns=\"http://www.w3.org/1999/xhtml\">\\r\\n<head><meta http-equiv=\"Content-Type\" content=\"text/html; charset=utf-8\" /><title>\\r\\n\\tAgriculture Marketing\\r\\n</title><link href=\"css/style.css\" rel=\"stylesheet\" type=\"text/css\" />    \\r\\n    <script type=\"text/javascript\" src=\"http://ajax.googleapis.com/ajax/libs/jquery/1.8.3/jquery.min.js\"></script>\\r\\n     \\r\\n    <link href=\"css/stylehome.css\" rel=\"stylesheet\" type=\"text/css\" /><link href=\"css/skin.css\" rel=\"stylesheet\" type=\"text/css\" /><link rel=\"stylesheet\" href=\"http://code.jquery.com/ui/1.12.1/themes/base/jquery-ui.css\" /> \\r\\n    <script type=\"text/javascript\" src=\"../Scripts/jquery.jcarousel.js\"></script>\\r\\n\\r\\n    <script type=\"text/javascript\">\\r\\n        $(document).ready(function () {\\r\\n            $(\"#ddlArrivalPrice\").change(function () {\\r\\n                if ($(\"#ddlArrivalPrice\").val() == \"2\")                    \\r\\n  '"
      ]
     },
     "execution_count": 8,
     "metadata": {},
     "output_type": "execute_result"
    }
   ],
   "source": [
    "pageContents[:1000]"
   ]
  },
  {
   "cell_type": "markdown",
   "metadata": {
    "id": "COmeswdOc3Hr"
   },
   "source": [
    "### Use BeautifulSoup parse and extract information"
   ]
  },
  {
   "cell_type": "code",
   "execution_count": 9,
   "metadata": {
    "id": "OweVyTZGc4tG"
   },
   "outputs": [],
   "source": [
    "# import BeautifulSoup package\n",
    "from bs4 import BeautifulSoup"
   ]
  },
  {
   "cell_type": "code",
   "execution_count": 10,
   "metadata": {
    "id": "CZEUMCXW5r_w"
   },
   "outputs": [],
   "source": [
    "# parser html page\n",
    "soup = BeautifulSoup(response.text, 'html')"
   ]
  },
  {
   "cell_type": "code",
   "execution_count": 11,
   "metadata": {
    "id": "pzkxml116WKQ"
   },
   "outputs": [],
   "source": [
    "# finding Required Tag\n",
    "tableSelect = 'tableagmark_new'\n",
    "tableTag = soup.find('table', {'class': tableSelect})"
   ]
  },
  {
   "cell_type": "code",
   "execution_count": 12,
   "metadata": {
    "colab": {
     "base_uri": "https://localhost:8080/"
    },
    "id": "9zzq8wNYcqxN",
    "outputId": "82363914-7286-436d-9975-2a11adaf55e8"
   },
   "outputs": [
    {
     "data": {
      "text/plain": [
       "1"
      ]
     },
     "execution_count": 12,
     "metadata": {},
     "output_type": "execute_result"
    }
   ],
   "source": [
    "# length of table header(columns)\n",
    "len(tableTag.find('th'))"
   ]
  },
  {
   "cell_type": "code",
   "execution_count": 13,
   "metadata": {
    "id": "t9lODfPGewVD"
   },
   "outputs": [],
   "source": [
    "# find all the columns and append them in the list header to make dataFrame\n",
    "header = []\n",
    "for i in tableTag.find_all('th'):\n",
    "  title = i.text.strip()\n",
    "  header.append(title)\n",
    "df=pd.DataFrame(columns = header)"
   ]
  },
  {
   "cell_type": "code",
   "execution_count": 14,
   "metadata": {
    "colab": {
     "base_uri": "https://localhost:8080/",
     "height": 49
    },
    "id": "Kf2WhvlQetks",
    "outputId": "db8ea382-7362-417b-ade7-c2f99a27667a"
   },
   "outputs": [
    {
     "data": {
      "text/html": [
       "<div>\n",
       "<style scoped>\n",
       "    .dataframe tbody tr th:only-of-type {\n",
       "        vertical-align: middle;\n",
       "    }\n",
       "\n",
       "    .dataframe tbody tr th {\n",
       "        vertical-align: top;\n",
       "    }\n",
       "\n",
       "    .dataframe thead th {\n",
       "        text-align: right;\n",
       "    }\n",
       "</style>\n",
       "<table border=\"1\" class=\"dataframe\">\n",
       "  <thead>\n",
       "    <tr style=\"text-align: right;\">\n",
       "      <th></th>\n",
       "      <th>Sl no.</th>\n",
       "      <th>District Name</th>\n",
       "      <th>Market Name</th>\n",
       "      <th>Commodity</th>\n",
       "      <th>Variety</th>\n",
       "      <th>Grade</th>\n",
       "      <th>Min Price (Rs./Quintal)</th>\n",
       "      <th>Max Price (Rs./Quintal)</th>\n",
       "      <th>Modal Price (Rs./Quintal)</th>\n",
       "      <th>Price Date</th>\n",
       "    </tr>\n",
       "  </thead>\n",
       "  <tbody>\n",
       "  </tbody>\n",
       "</table>\n",
       "</div>"
      ],
      "text/plain": [
       "Empty DataFrame\n",
       "Columns: [Sl no., District Name, Market Name, Commodity, Variety, Grade, Min Price (Rs./Quintal), Max Price (Rs./Quintal), Modal Price (Rs./Quintal), Price Date]\n",
       "Index: []"
      ]
     },
     "execution_count": 14,
     "metadata": {},
     "output_type": "execute_result"
    }
   ],
   "source": [
    "# print(header)\n",
    "df"
   ]
  },
  {
   "cell_type": "code",
   "execution_count": 15,
   "metadata": {
    "id": "k6Dnc9GmjEmG"
   },
   "outputs": [],
   "source": [
    "# find all table row tags(tr) and inside tr find all table data(td)\n",
    "# count the length of all columns and stor all data in the length of column dataFrame\n",
    "for r in tableTag.find_all('tr')[1:]:\n",
    "  data=r.find_all('td')\n",
    "  tData = [td.text.strip() for td in data]\n",
    "  length = len(df)\n",
    "  df.loc[length]=tData"
   ]
  },
  {
   "cell_type": "code",
   "execution_count": 16,
   "metadata": {
    "colab": {
     "base_uri": "https://localhost:8080/",
     "height": 488
    },
    "id": "PcBVmAK1zyGl",
    "outputId": "529cdc2a-8041-4e71-dcc2-6038a64f9052"
   },
   "outputs": [
    {
     "data": {
      "text/html": [
       "<div>\n",
       "<style scoped>\n",
       "    .dataframe tbody tr th:only-of-type {\n",
       "        vertical-align: middle;\n",
       "    }\n",
       "\n",
       "    .dataframe tbody tr th {\n",
       "        vertical-align: top;\n",
       "    }\n",
       "\n",
       "    .dataframe thead th {\n",
       "        text-align: right;\n",
       "    }\n",
       "</style>\n",
       "<table border=\"1\" class=\"dataframe\">\n",
       "  <thead>\n",
       "    <tr style=\"text-align: right;\">\n",
       "      <th></th>\n",
       "      <th>Sl no.</th>\n",
       "      <th>District Name</th>\n",
       "      <th>Market Name</th>\n",
       "      <th>Commodity</th>\n",
       "      <th>Variety</th>\n",
       "      <th>Grade</th>\n",
       "      <th>Min Price (Rs./Quintal)</th>\n",
       "      <th>Max Price (Rs./Quintal)</th>\n",
       "      <th>Modal Price (Rs./Quintal)</th>\n",
       "      <th>Price Date</th>\n",
       "    </tr>\n",
       "  </thead>\n",
       "  <tbody>\n",
       "    <tr>\n",
       "      <th>0</th>\n",
       "      <td>1</td>\n",
       "      <td>Pune</td>\n",
       "      <td>Junnar(Narayangaon)</td>\n",
       "      <td>Tomato</td>\n",
       "      <td>Local</td>\n",
       "      <td>FAQ</td>\n",
       "      <td>1000</td>\n",
       "      <td>3000</td>\n",
       "      <td>2000</td>\n",
       "      <td>21 Oct 2022</td>\n",
       "    </tr>\n",
       "    <tr>\n",
       "      <th>1</th>\n",
       "      <td>2</td>\n",
       "      <td>Pune</td>\n",
       "      <td>Junnar(Narayangaon)</td>\n",
       "      <td>Tomato</td>\n",
       "      <td>Local</td>\n",
       "      <td>FAQ</td>\n",
       "      <td>1000</td>\n",
       "      <td>3000</td>\n",
       "      <td>2000</td>\n",
       "      <td>20 Oct 2022</td>\n",
       "    </tr>\n",
       "    <tr>\n",
       "      <th>2</th>\n",
       "      <td>3</td>\n",
       "      <td>Pune</td>\n",
       "      <td>Khed(Chakan)</td>\n",
       "      <td>Tomato</td>\n",
       "      <td>Other</td>\n",
       "      <td>FAQ</td>\n",
       "      <td>2000</td>\n",
       "      <td>4000</td>\n",
       "      <td>3000</td>\n",
       "      <td>21 Oct 2022</td>\n",
       "    </tr>\n",
       "    <tr>\n",
       "      <th>3</th>\n",
       "      <td>4</td>\n",
       "      <td>Pune</td>\n",
       "      <td>Khed(Chakan)</td>\n",
       "      <td>Tomato</td>\n",
       "      <td>Other</td>\n",
       "      <td>FAQ</td>\n",
       "      <td>2000</td>\n",
       "      <td>3000</td>\n",
       "      <td>2500</td>\n",
       "      <td>20 Oct 2022</td>\n",
       "    </tr>\n",
       "    <tr>\n",
       "      <th>4</th>\n",
       "      <td>5</td>\n",
       "      <td>Pune</td>\n",
       "      <td>Maanachar</td>\n",
       "      <td>Tomato</td>\n",
       "      <td>Other</td>\n",
       "      <td>FAQ</td>\n",
       "      <td>3800</td>\n",
       "      <td>4500</td>\n",
       "      <td>4150</td>\n",
       "      <td>21 Oct 2022</td>\n",
       "    </tr>\n",
       "    <tr>\n",
       "      <th>5</th>\n",
       "      <td>6</td>\n",
       "      <td>Pune</td>\n",
       "      <td>Pune</td>\n",
       "      <td>Tomato</td>\n",
       "      <td>Local</td>\n",
       "      <td>FAQ</td>\n",
       "      <td>1000</td>\n",
       "      <td>2800</td>\n",
       "      <td>1750</td>\n",
       "      <td>21 Oct 2022</td>\n",
       "    </tr>\n",
       "    <tr>\n",
       "      <th>6</th>\n",
       "      <td>7</td>\n",
       "      <td>Pune</td>\n",
       "      <td>Pune</td>\n",
       "      <td>Tomato</td>\n",
       "      <td>Local</td>\n",
       "      <td>FAQ</td>\n",
       "      <td>1200</td>\n",
       "      <td>3000</td>\n",
       "      <td>2100</td>\n",
       "      <td>20 Oct 2022</td>\n",
       "    </tr>\n",
       "    <tr>\n",
       "      <th>7</th>\n",
       "      <td>8</td>\n",
       "      <td>Pune</td>\n",
       "      <td>Pune(Khadiki)</td>\n",
       "      <td>Tomato</td>\n",
       "      <td>Local</td>\n",
       "      <td>FAQ</td>\n",
       "      <td>1100</td>\n",
       "      <td>2000</td>\n",
       "      <td>1550</td>\n",
       "      <td>21 Oct 2022</td>\n",
       "    </tr>\n",
       "    <tr>\n",
       "      <th>8</th>\n",
       "      <td>9</td>\n",
       "      <td>Pune</td>\n",
       "      <td>Pune(Khadiki)</td>\n",
       "      <td>Tomato</td>\n",
       "      <td>Local</td>\n",
       "      <td>FAQ</td>\n",
       "      <td>1500</td>\n",
       "      <td>3500</td>\n",
       "      <td>2500</td>\n",
       "      <td>20 Oct 2022</td>\n",
       "    </tr>\n",
       "    <tr>\n",
       "      <th>9</th>\n",
       "      <td>10</td>\n",
       "      <td>Pune</td>\n",
       "      <td>Pune(Manjri)</td>\n",
       "      <td>Tomato</td>\n",
       "      <td>Other</td>\n",
       "      <td>FAQ</td>\n",
       "      <td>1800</td>\n",
       "      <td>3200</td>\n",
       "      <td>2300</td>\n",
       "      <td>21 Oct 2022</td>\n",
       "    </tr>\n",
       "    <tr>\n",
       "      <th>10</th>\n",
       "      <td>11</td>\n",
       "      <td>Pune</td>\n",
       "      <td>Pune(Manjri)</td>\n",
       "      <td>Tomato</td>\n",
       "      <td>Other</td>\n",
       "      <td>FAQ</td>\n",
       "      <td>1400</td>\n",
       "      <td>2300</td>\n",
       "      <td>1800</td>\n",
       "      <td>20 Oct 2022</td>\n",
       "    </tr>\n",
       "    <tr>\n",
       "      <th>11</th>\n",
       "      <td>12</td>\n",
       "      <td>Pune</td>\n",
       "      <td>Pune(Moshi)</td>\n",
       "      <td>Tomato</td>\n",
       "      <td>Local</td>\n",
       "      <td>FAQ</td>\n",
       "      <td>1000</td>\n",
       "      <td>2500</td>\n",
       "      <td>1750</td>\n",
       "      <td>21 Oct 2022</td>\n",
       "    </tr>\n",
       "    <tr>\n",
       "      <th>12</th>\n",
       "      <td>13</td>\n",
       "      <td>Pune</td>\n",
       "      <td>Pune(Moshi)</td>\n",
       "      <td>Tomato</td>\n",
       "      <td>Local</td>\n",
       "      <td>FAQ</td>\n",
       "      <td>2000</td>\n",
       "      <td>3000</td>\n",
       "      <td>2500</td>\n",
       "      <td>20 Oct 2022</td>\n",
       "    </tr>\n",
       "    <tr>\n",
       "      <th>13</th>\n",
       "      <td>14</td>\n",
       "      <td>Pune</td>\n",
       "      <td>Pune(Pimpri)</td>\n",
       "      <td>Tomato</td>\n",
       "      <td>Local</td>\n",
       "      <td>FAQ</td>\n",
       "      <td>3000</td>\n",
       "      <td>3000</td>\n",
       "      <td>3000</td>\n",
       "      <td>21 Oct 2022</td>\n",
       "    </tr>\n",
       "  </tbody>\n",
       "</table>\n",
       "</div>"
      ],
      "text/plain": [
       "   Sl no. District Name          Market Name Commodity Variety Grade  \\\n",
       "0       1          Pune  Junnar(Narayangaon)    Tomato   Local   FAQ   \n",
       "1       2          Pune  Junnar(Narayangaon)    Tomato   Local   FAQ   \n",
       "2       3          Pune         Khed(Chakan)    Tomato   Other   FAQ   \n",
       "3       4          Pune         Khed(Chakan)    Tomato   Other   FAQ   \n",
       "4       5          Pune            Maanachar    Tomato   Other   FAQ   \n",
       "5       6          Pune                 Pune    Tomato   Local   FAQ   \n",
       "6       7          Pune                 Pune    Tomato   Local   FAQ   \n",
       "7       8          Pune        Pune(Khadiki)    Tomato   Local   FAQ   \n",
       "8       9          Pune        Pune(Khadiki)    Tomato   Local   FAQ   \n",
       "9      10          Pune         Pune(Manjri)    Tomato   Other   FAQ   \n",
       "10     11          Pune         Pune(Manjri)    Tomato   Other   FAQ   \n",
       "11     12          Pune          Pune(Moshi)    Tomato   Local   FAQ   \n",
       "12     13          Pune          Pune(Moshi)    Tomato   Local   FAQ   \n",
       "13     14          Pune         Pune(Pimpri)    Tomato   Local   FAQ   \n",
       "\n",
       "   Min Price (Rs./Quintal) Max Price (Rs./Quintal) Modal Price (Rs./Quintal)  \\\n",
       "0                     1000                    3000                      2000   \n",
       "1                     1000                    3000                      2000   \n",
       "2                     2000                    4000                      3000   \n",
       "3                     2000                    3000                      2500   \n",
       "4                     3800                    4500                      4150   \n",
       "5                     1000                    2800                      1750   \n",
       "6                     1200                    3000                      2100   \n",
       "7                     1100                    2000                      1550   \n",
       "8                     1500                    3500                      2500   \n",
       "9                     1800                    3200                      2300   \n",
       "10                    1400                    2300                      1800   \n",
       "11                    1000                    2500                      1750   \n",
       "12                    2000                    3000                      2500   \n",
       "13                    3000                    3000                      3000   \n",
       "\n",
       "     Price Date  \n",
       "0   21 Oct 2022  \n",
       "1   20 Oct 2022  \n",
       "2   21 Oct 2022  \n",
       "3   20 Oct 2022  \n",
       "4   21 Oct 2022  \n",
       "5   21 Oct 2022  \n",
       "6   20 Oct 2022  \n",
       "7   21 Oct 2022  \n",
       "8   20 Oct 2022  \n",
       "9   21 Oct 2022  \n",
       "10  20 Oct 2022  \n",
       "11  21 Oct 2022  \n",
       "12  20 Oct 2022  \n",
       "13  21 Oct 2022  "
      ]
     },
     "execution_count": 16,
     "metadata": {},
     "output_type": "execute_result"
    }
   ],
   "source": [
    "df"
   ]
  },
  {
   "cell_type": "markdown",
   "metadata": {
    "id": "Xlf7NZfMMfoZ"
   },
   "source": [
    "**I have tried to optimize the code as much as possible, whenever I write the code I try to make the code as much as possible dynamic,\n",
    "I have tried to pass the parameter dynamically that's why tried to use the post method but it did not work properly, I also tried string formatting, and finally I conclude, if we scrape some pages then it will be better to take the URL directly modified by some click rather then typing and filling two parameters for one value like Tx_Commodity: 17, Tx_CommodityHead: Apple.\n",
    "and we can also scrap any website table by using only one function of the pandas called pd.read_html.**"
   ]
  },
  {
   "cell_type": "code",
   "execution_count": 17,
   "metadata": {
    "id": "HqOZxAhukSGp"
   },
   "outputs": [],
   "source": [
    "tableDf=pd.read_html(tomatoUrl)"
   ]
  },
  {
   "cell_type": "code",
   "execution_count": 18,
   "metadata": {
    "colab": {
     "base_uri": "https://localhost:8080/",
     "height": 488
    },
    "id": "ZbgFmadbKpXw",
    "outputId": "1d460b33-9074-4469-ab6f-409befdcd781"
   },
   "outputs": [
    {
     "data": {
      "text/html": [
       "<div>\n",
       "<style scoped>\n",
       "    .dataframe tbody tr th:only-of-type {\n",
       "        vertical-align: middle;\n",
       "    }\n",
       "\n",
       "    .dataframe tbody tr th {\n",
       "        vertical-align: top;\n",
       "    }\n",
       "\n",
       "    .dataframe thead th {\n",
       "        text-align: right;\n",
       "    }\n",
       "</style>\n",
       "<table border=\"1\" class=\"dataframe\">\n",
       "  <thead>\n",
       "    <tr style=\"text-align: right;\">\n",
       "      <th></th>\n",
       "      <th>Sl no.</th>\n",
       "      <th>District Name</th>\n",
       "      <th>Market Name</th>\n",
       "      <th>Commodity</th>\n",
       "      <th>Variety</th>\n",
       "      <th>Grade</th>\n",
       "      <th>Min Price (Rs./Quintal)</th>\n",
       "      <th>Max Price (Rs./Quintal)</th>\n",
       "      <th>Modal Price (Rs./Quintal)</th>\n",
       "      <th>Price Date</th>\n",
       "    </tr>\n",
       "  </thead>\n",
       "  <tbody>\n",
       "    <tr>\n",
       "      <th>0</th>\n",
       "      <td>1</td>\n",
       "      <td>Pune</td>\n",
       "      <td>Junnar(Narayangaon)</td>\n",
       "      <td>Tomato</td>\n",
       "      <td>Local</td>\n",
       "      <td>FAQ</td>\n",
       "      <td>1000</td>\n",
       "      <td>3000</td>\n",
       "      <td>2000</td>\n",
       "      <td>21 Oct 2022</td>\n",
       "    </tr>\n",
       "    <tr>\n",
       "      <th>1</th>\n",
       "      <td>2</td>\n",
       "      <td>Pune</td>\n",
       "      <td>Junnar(Narayangaon)</td>\n",
       "      <td>Tomato</td>\n",
       "      <td>Local</td>\n",
       "      <td>FAQ</td>\n",
       "      <td>1000</td>\n",
       "      <td>3000</td>\n",
       "      <td>2000</td>\n",
       "      <td>20 Oct 2022</td>\n",
       "    </tr>\n",
       "    <tr>\n",
       "      <th>2</th>\n",
       "      <td>3</td>\n",
       "      <td>Pune</td>\n",
       "      <td>Khed(Chakan)</td>\n",
       "      <td>Tomato</td>\n",
       "      <td>Other</td>\n",
       "      <td>FAQ</td>\n",
       "      <td>2000</td>\n",
       "      <td>4000</td>\n",
       "      <td>3000</td>\n",
       "      <td>21 Oct 2022</td>\n",
       "    </tr>\n",
       "    <tr>\n",
       "      <th>3</th>\n",
       "      <td>4</td>\n",
       "      <td>Pune</td>\n",
       "      <td>Khed(Chakan)</td>\n",
       "      <td>Tomato</td>\n",
       "      <td>Other</td>\n",
       "      <td>FAQ</td>\n",
       "      <td>2000</td>\n",
       "      <td>3000</td>\n",
       "      <td>2500</td>\n",
       "      <td>20 Oct 2022</td>\n",
       "    </tr>\n",
       "    <tr>\n",
       "      <th>4</th>\n",
       "      <td>5</td>\n",
       "      <td>Pune</td>\n",
       "      <td>Maanachar</td>\n",
       "      <td>Tomato</td>\n",
       "      <td>Other</td>\n",
       "      <td>FAQ</td>\n",
       "      <td>3800</td>\n",
       "      <td>4500</td>\n",
       "      <td>4150</td>\n",
       "      <td>21 Oct 2022</td>\n",
       "    </tr>\n",
       "    <tr>\n",
       "      <th>5</th>\n",
       "      <td>6</td>\n",
       "      <td>Pune</td>\n",
       "      <td>Pune</td>\n",
       "      <td>Tomato</td>\n",
       "      <td>Local</td>\n",
       "      <td>FAQ</td>\n",
       "      <td>1000</td>\n",
       "      <td>2800</td>\n",
       "      <td>1750</td>\n",
       "      <td>21 Oct 2022</td>\n",
       "    </tr>\n",
       "    <tr>\n",
       "      <th>6</th>\n",
       "      <td>7</td>\n",
       "      <td>Pune</td>\n",
       "      <td>Pune</td>\n",
       "      <td>Tomato</td>\n",
       "      <td>Local</td>\n",
       "      <td>FAQ</td>\n",
       "      <td>1200</td>\n",
       "      <td>3000</td>\n",
       "      <td>2100</td>\n",
       "      <td>20 Oct 2022</td>\n",
       "    </tr>\n",
       "    <tr>\n",
       "      <th>7</th>\n",
       "      <td>8</td>\n",
       "      <td>Pune</td>\n",
       "      <td>Pune(Khadiki)</td>\n",
       "      <td>Tomato</td>\n",
       "      <td>Local</td>\n",
       "      <td>FAQ</td>\n",
       "      <td>1100</td>\n",
       "      <td>2000</td>\n",
       "      <td>1550</td>\n",
       "      <td>21 Oct 2022</td>\n",
       "    </tr>\n",
       "    <tr>\n",
       "      <th>8</th>\n",
       "      <td>9</td>\n",
       "      <td>Pune</td>\n",
       "      <td>Pune(Khadiki)</td>\n",
       "      <td>Tomato</td>\n",
       "      <td>Local</td>\n",
       "      <td>FAQ</td>\n",
       "      <td>1500</td>\n",
       "      <td>3500</td>\n",
       "      <td>2500</td>\n",
       "      <td>20 Oct 2022</td>\n",
       "    </tr>\n",
       "    <tr>\n",
       "      <th>9</th>\n",
       "      <td>10</td>\n",
       "      <td>Pune</td>\n",
       "      <td>Pune(Manjri)</td>\n",
       "      <td>Tomato</td>\n",
       "      <td>Other</td>\n",
       "      <td>FAQ</td>\n",
       "      <td>1800</td>\n",
       "      <td>3200</td>\n",
       "      <td>2300</td>\n",
       "      <td>21 Oct 2022</td>\n",
       "    </tr>\n",
       "    <tr>\n",
       "      <th>10</th>\n",
       "      <td>11</td>\n",
       "      <td>Pune</td>\n",
       "      <td>Pune(Manjri)</td>\n",
       "      <td>Tomato</td>\n",
       "      <td>Other</td>\n",
       "      <td>FAQ</td>\n",
       "      <td>1400</td>\n",
       "      <td>2300</td>\n",
       "      <td>1800</td>\n",
       "      <td>20 Oct 2022</td>\n",
       "    </tr>\n",
       "    <tr>\n",
       "      <th>11</th>\n",
       "      <td>12</td>\n",
       "      <td>Pune</td>\n",
       "      <td>Pune(Moshi)</td>\n",
       "      <td>Tomato</td>\n",
       "      <td>Local</td>\n",
       "      <td>FAQ</td>\n",
       "      <td>1000</td>\n",
       "      <td>2500</td>\n",
       "      <td>1750</td>\n",
       "      <td>21 Oct 2022</td>\n",
       "    </tr>\n",
       "    <tr>\n",
       "      <th>12</th>\n",
       "      <td>13</td>\n",
       "      <td>Pune</td>\n",
       "      <td>Pune(Moshi)</td>\n",
       "      <td>Tomato</td>\n",
       "      <td>Local</td>\n",
       "      <td>FAQ</td>\n",
       "      <td>2000</td>\n",
       "      <td>3000</td>\n",
       "      <td>2500</td>\n",
       "      <td>20 Oct 2022</td>\n",
       "    </tr>\n",
       "    <tr>\n",
       "      <th>13</th>\n",
       "      <td>14</td>\n",
       "      <td>Pune</td>\n",
       "      <td>Pune(Pimpri)</td>\n",
       "      <td>Tomato</td>\n",
       "      <td>Local</td>\n",
       "      <td>FAQ</td>\n",
       "      <td>3000</td>\n",
       "      <td>3000</td>\n",
       "      <td>3000</td>\n",
       "      <td>21 Oct 2022</td>\n",
       "    </tr>\n",
       "  </tbody>\n",
       "</table>\n",
       "</div>"
      ],
      "text/plain": [
       "    Sl no. District Name          Market Name Commodity Variety Grade  \\\n",
       "0        1          Pune  Junnar(Narayangaon)    Tomato   Local   FAQ   \n",
       "1        2          Pune  Junnar(Narayangaon)    Tomato   Local   FAQ   \n",
       "2        3          Pune         Khed(Chakan)    Tomato   Other   FAQ   \n",
       "3        4          Pune         Khed(Chakan)    Tomato   Other   FAQ   \n",
       "4        5          Pune            Maanachar    Tomato   Other   FAQ   \n",
       "5        6          Pune                 Pune    Tomato   Local   FAQ   \n",
       "6        7          Pune                 Pune    Tomato   Local   FAQ   \n",
       "7        8          Pune        Pune(Khadiki)    Tomato   Local   FAQ   \n",
       "8        9          Pune        Pune(Khadiki)    Tomato   Local   FAQ   \n",
       "9       10          Pune         Pune(Manjri)    Tomato   Other   FAQ   \n",
       "10      11          Pune         Pune(Manjri)    Tomato   Other   FAQ   \n",
       "11      12          Pune          Pune(Moshi)    Tomato   Local   FAQ   \n",
       "12      13          Pune          Pune(Moshi)    Tomato   Local   FAQ   \n",
       "13      14          Pune         Pune(Pimpri)    Tomato   Local   FAQ   \n",
       "\n",
       "    Min Price (Rs./Quintal)  Max Price (Rs./Quintal)  \\\n",
       "0                      1000                     3000   \n",
       "1                      1000                     3000   \n",
       "2                      2000                     4000   \n",
       "3                      2000                     3000   \n",
       "4                      3800                     4500   \n",
       "5                      1000                     2800   \n",
       "6                      1200                     3000   \n",
       "7                      1100                     2000   \n",
       "8                      1500                     3500   \n",
       "9                      1800                     3200   \n",
       "10                     1400                     2300   \n",
       "11                     1000                     2500   \n",
       "12                     2000                     3000   \n",
       "13                     3000                     3000   \n",
       "\n",
       "    Modal Price (Rs./Quintal)   Price Date  \n",
       "0                        2000  21 Oct 2022  \n",
       "1                        2000  20 Oct 2022  \n",
       "2                        3000  21 Oct 2022  \n",
       "3                        2500  20 Oct 2022  \n",
       "4                        4150  21 Oct 2022  \n",
       "5                        1750  21 Oct 2022  \n",
       "6                        2100  20 Oct 2022  \n",
       "7                        1550  21 Oct 2022  \n",
       "8                        2500  20 Oct 2022  \n",
       "9                        2300  21 Oct 2022  \n",
       "10                       1800  20 Oct 2022  \n",
       "11                       1750  21 Oct 2022  \n",
       "12                       2500  20 Oct 2022  \n",
       "13                       3000  21 Oct 2022  "
      ]
     },
     "execution_count": 18,
     "metadata": {},
     "output_type": "execute_result"
    }
   ],
   "source": [
    "tableDf[0]"
   ]
  },
  {
   "cell_type": "code",
   "execution_count": null,
   "metadata": {},
   "outputs": [],
   "source": [
    "# pip install lxml"
   ]
  }
 ],
 "metadata": {
  "colab": {
   "provenance": []
  },
  "kernelspec": {
   "display_name": "Python 3 (ipykernel)",
   "language": "python",
   "name": "python3"
  },
  "language_info": {
   "codemirror_mode": {
    "name": "ipython",
    "version": 3
   },
   "file_extension": ".py",
   "mimetype": "text/x-python",
   "name": "python",
   "nbconvert_exporter": "python",
   "pygments_lexer": "ipython3",
   "version": "3.10.4"
  },
  "toc": {
   "base_numbering": 1,
   "nav_menu": {},
   "number_sections": true,
   "sideBar": true,
   "skip_h1_title": false,
   "title_cell": "Table of Contents",
   "title_sidebar": "Contents",
   "toc_cell": false,
   "toc_position": {},
   "toc_section_display": true,
   "toc_window_display": false
  }
 },
 "nbformat": 4,
 "nbformat_minor": 1
}
