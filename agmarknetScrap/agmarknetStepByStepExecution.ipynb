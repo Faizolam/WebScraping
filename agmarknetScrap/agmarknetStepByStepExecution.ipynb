{
 "cells": [
  {
   "cell_type": "markdown",
   "metadata": {
    "id": "zqH3asJSaD2t"
   },
   "source": [
    "#### Use the requests library to send http requests using Python and get object with all the response data (content, encoding, status, etc)."
   ]
  },
  {
   "cell_type": "code",
   "execution_count": 1,
   "metadata": {
    "id": "oWUwZ-8CY3-6"
   },
   "outputs": [],
   "source": [
    "# import libraries\n",
    "import requests"
   ]
  },
  {
   "cell_type": "code",
   "execution_count": 2,
   "metadata": {
    "id": "EAsdMXTAZcbw"
   },
   "outputs": [],
   "source": [
    "#url \n",
    "tomatoUrl = 'https://agmarknet.gov.in/SearchCmmMkt.aspx?Tx_Commodity=78&Tx_State=MH&Tx_District=14&Tx_Market=0&DateFrom=20-Oct-2021&DateTo=21-Oct-2021&Fr_Date=20-Oct-2021&To_Date=21-Oct-2021&Tx_Trend=0&Tx_CommodityHead=Tomato&Tx_StateHead=Maharashtra&Tx_DistrictHead=Pune&Tx_MarketHead=--Select--'"
   ]
  },
  {
   "cell_type": "code",
   "execution_count": 3,
   "metadata": {
    "id": "FEcp7Z3AaXEt"
   },
   "outputs": [],
   "source": [
    "response=requests.get(tomatoUrl)"
   ]
  },
  {
   "cell_type": "code",
   "execution_count": 4,
   "metadata": {
    "colab": {
     "base_uri": "https://localhost:8080/"
    },
    "id": "9z4O4mqBamEL",
    "outputId": "ac32b2a5-ed33-4759-95c5-b99ed657660a"
   },
   "outputs": [
    {
     "data": {
      "text/plain": [
       "200"
      ]
     },
     "execution_count": 4,
     "metadata": {},
     "output_type": "execute_result"
    }
   ],
   "source": [
    "# .status_codes mean check requests successful or not if 200 -299 means requests is success.\n",
    "response.status_code"
   ]
  },
  {
   "cell_type": "code",
   "execution_count": 5,
   "metadata": {
    "colab": {
     "base_uri": "https://localhost:8080/",
     "height": 36
    },
    "id": "SQxd5g7L5yOI",
    "outputId": "6beceb3b-40e8-47f6-f404-9a16e3b4d6b0"
   },
   "outputs": [
    {
     "data": {
      "text/plain": [
       "'utf-8'"
      ]
     },
     "execution_count": 5,
     "metadata": {},
     "output_type": "execute_result"
    }
   ],
   "source": [
    "#check encoding\n",
    "response.encoding"
   ]
  },
  {
   "cell_type": "code",
   "execution_count": 6,
   "metadata": {
    "colab": {
     "base_uri": "https://localhost:8080/"
    },
    "id": "AM5oivQ06Ecd",
    "outputId": "b10e4903-5c52-4c93-95fe-1f8e02fe35a1"
   },
   "outputs": [
    {
     "data": {
      "text/plain": [
       "118528"
      ]
     },
     "execution_count": 6,
     "metadata": {},
     "output_type": "execute_result"
    }
   ],
   "source": [
    "# length of response.text\n",
    "len(response.text)"
   ]
  },
  {
   "cell_type": "code",
   "execution_count": 7,
   "metadata": {
    "id": "sBoq_YEoZVIC"
   },
   "outputs": [],
   "source": [
    "pageContents = response.text"
   ]
  },
  {
   "cell_type": "code",
   "execution_count": 8,
   "metadata": {
    "colab": {
     "base_uri": "https://localhost:8080/",
     "height": 127
    },
    "id": "anRhlXaebwKd",
    "outputId": "ff52cf51-1b85-470d-c5a0-b664443dade1"
   },
   "outputs": [
    {
     "data": {
      "text/plain": [
       "'\\r\\n<!DOCTYPE html PUBLIC \"-//W3C//DTD XHTML 1.0 Transitional//EN\" \"http://www.w3.org/TR/xhtml1/DTD/xhtml1-transitional.dtd\">\\r\\n<html xmlns=\"http://www.w3.org/1999/xhtml\">\\r\\n<head><meta http-equiv=\"Content-Type\" content=\"text/html; charset=utf-8\" /><title>\\r\\n\\tAgriculture Marketing\\r\\n</title><link href=\"css/style.css\" rel=\"stylesheet\" type=\"text/css\" />    \\r\\n        <script type=\"text/javascript\" src=\"http://ajax.googleapis.com/ajax/libs/jquery/1.8.3/jquery.min.js\"></script>\\r\\n     \\r\\n    <link href=\"css/stylehome.css\" rel=\"stylesheet\" type=\"text/css\" /><link href=\"css/skin.css\" rel=\"stylesheet\" type=\"text/css\" /><link rel=\"stylesheet\" href=\"http://code.jquery.com/ui/1.12.1/themes/base/jquery-ui.css\" /> \\r\\n    <script type=\"text/javascript\" src=\"../Scripts/jquery.jcarousel.js\"></script>\\r\\n\\r\\n    <script type=\"text/javascript\">\\r\\n        $(document).ready(function () {\\r\\n            $(\"#ddlArrivalPrice\").change(function () {\\r\\n                if ($(\"#ddlArrivalPrice\").val() == \"2\")                    '"
      ]
     },
     "execution_count": 8,
     "metadata": {},
     "output_type": "execute_result"
    }
   ],
   "source": [
    "pageContents[:1000]"
   ]
  },
  {
   "cell_type": "markdown",
   "metadata": {
    "id": "COmeswdOc3Hr"
   },
   "source": [
    "#### Use BeautifulSoup parse and extract information"
   ]
  },
  {
   "cell_type": "code",
   "execution_count": 9,
   "metadata": {
    "id": "OweVyTZGc4tG"
   },
   "outputs": [],
   "source": [
    "# import BeautifulSoup package\n",
    "from bs4 import BeautifulSoup"
   ]
  },
  {
   "cell_type": "code",
   "execution_count": 10,
   "metadata": {
    "id": "CZEUMCXW5r_w"
   },
   "outputs": [],
   "source": [
    "# parser html page\n",
    "soup = BeautifulSoup(response.text, 'html')"
   ]
  },
  {
   "cell_type": "code",
   "execution_count": 11,
   "metadata": {
    "id": "pzkxml116WKQ"
   },
   "outputs": [],
   "source": [
    "# finding Required Tag\n",
    "tableSelect = 'tableagmark_new'\n",
    "tableTag = soup.find('table', {'class': tableSelect})"
   ]
  },
  {
   "cell_type": "code",
   "execution_count": 12,
   "metadata": {
    "colab": {
     "base_uri": "https://localhost:8080/"
    },
    "id": "9zzq8wNYcqxN",
    "outputId": "82363914-7286-436d-9975-2a11adaf55e8"
   },
   "outputs": [
    {
     "data": {
      "text/plain": [
       "1"
      ]
     },
     "execution_count": 12,
     "metadata": {},
     "output_type": "execute_result"
    }
   ],
   "source": [
    "# length of table header(columns)\n",
    "len(tableTag.find('th'))"
   ]
  },
  {
   "cell_type": "code",
   "execution_count": 13,
   "metadata": {
    "id": "t9lODfPGewVD"
   },
   "outputs": [],
   "source": [
    "# find all the columns and append them in the list header to make dataFrame\n",
    "header = []\n",
    "for i in tableTag.find_all('th'):\n",
    "    title = i.text.strip()\n",
    "    header.append(title)\n",
    "# df=pd.DataFrame(columns = header)"
   ]
  },
  {
   "cell_type": "code",
   "execution_count": 14,
   "metadata": {
    "colab": {
     "base_uri": "https://localhost:8080/",
     "height": 49
    },
    "id": "Kf2WhvlQetks",
    "outputId": "db8ea382-7362-417b-ade7-c2f99a27667a"
   },
   "outputs": [
    {
     "name": "stdout",
     "output_type": "stream",
     "text": [
      "['Sl no.', 'District Name', 'Market Name', 'Commodity', 'Variety', 'Grade', 'Min Price (Rs./Quintal)', 'Max Price (Rs./Quintal)', 'Modal Price (Rs./Quintal)', 'Price Date']\n"
     ]
    }
   ],
   "source": [
    "print(header)\n",
    "# df"
   ]
  },
  {
   "cell_type": "code",
   "execution_count": 15,
   "metadata": {
    "id": "k6Dnc9GmjEmG",
    "scrolled": true
   },
   "outputs": [],
   "source": [
    "# find all table row tags(tr) and inside tr find all table data(td)\n",
    "# count the length of all columns and stor all data in the length of column dataFrame\n",
    "lisData=[]\n",
    "for r in tableTag.find_all('tr')[1:]:\n",
    "    data=r.find_all('td')\n",
    "    tData = [td.text.strip() for td in data]\n",
    "#     print(tData)\n",
    "    lisData.append(tData)\n",
    "#     length = len(df)\n",
    "#     df.loc[length]=tData"
   ]
  },
  {
   "cell_type": "code",
   "execution_count": 16,
   "metadata": {
    "scrolled": false
   },
   "outputs": [
    {
     "name": "stdout",
     "output_type": "stream",
     "text": [
      "[['1', 'Pune', 'Junnar(Narayangaon)', 'Tomato', 'Local', 'FAQ', '2500', '4250', '3200', '21 Oct 2021'], ['2', 'Pune', 'Junnar(Narayangaon)', 'Tomato', 'Local', 'FAQ', '2000', '4000', '3000', '20 Oct 2021'], ['3', 'Pune', 'Khed(Chakan)', 'Tomato', 'Other', 'FAQ', '2500', '3500', '3000', '21 Oct 2021'], ['4', 'Pune', 'Khed(Chakan)', 'Tomato', 'Other', 'FAQ', '2000', '4000', '3000', '20 Oct 2021'], ['5', 'Pune', 'Maanachar', 'Tomato', 'Other', 'FAQ', '1000', '3000', '2485', '21 Oct 2021'], ['6', 'Pune', 'Maanachar', 'Tomato', 'Other', 'FAQ', '1000', '4000', '2585', '20 Oct 2021'], ['7', 'Pune', 'Pune', 'Tomato', 'Local', 'FAQ', '1500', '3500', '2500', '21 Oct 2021'], ['8', 'Pune', 'Pune', 'Tomato', 'Local', 'FAQ', '1400', '4000', '2700', '20 Oct 2021'], ['9', 'Pune', 'Pune(Khadiki)', 'Tomato', 'Local', 'FAQ', '1300', '2900', '1800', '21 Oct 2021'], ['10', 'Pune', 'Pune(Khadiki)', 'Tomato', 'Local', 'FAQ', '1500', '3000', '2250', '20 Oct 2021'], ['11', 'Pune', 'Pune(Manjri)', 'Tomato', 'Other', 'FAQ', '2700', '4100', '3600', '21 Oct 2021'], ['12', 'Pune', 'Pune(Manjri)', 'Tomato', 'Other', 'FAQ', '2300', '4000', '3100', '20 Oct 2021'], ['13', 'Pune', 'Pune(Moshi)', 'Tomato', 'Local', 'FAQ', '1800', '2000', '1900', '21 Oct 2021'], ['14', 'Pune', 'Pune(Pimpri)', 'Tomato', 'Local', 'FAQ', '3000', '4000', '3500', '21 Oct 2021'], ['15', 'Pune', 'Pune(Pimpri)', 'Tomato', 'Local', 'FAQ', '3000', '4200', '3600', '20 Oct 2021']]\n"
     ]
    }
   ],
   "source": [
    "print(lisData)"
   ]
  },
  {
   "cell_type": "markdown",
   "metadata": {},
   "source": [
    "**writing into CSV files without using any module.**"
   ]
  },
  {
   "cell_type": "code",
   "execution_count": 17,
   "metadata": {},
   "outputs": [],
   "source": [
    "# Open the CSV file in write mode\n",
    "with open('Tomato Price.csv', 'w') as csvFile:\n",
    "  # writing header in the csv file  \n",
    "    csvFile.write(','.join(header) + '\\n')\n",
    "  # Iterate through the rows and write each one to the CSV file\n",
    "    for row in lisData:\n",
    "        csvFile.write(','.join(row) + '\\n')"
   ]
  },
  {
   "cell_type": "markdown",
   "metadata": {
    "id": "Xlf7NZfMMfoZ"
   },
   "source": [
    "**I have tried to optimize the code as much as possible, whenever I write the code I try to make the code as much as possible dynamic,\n",
    "I have tried to pass the parameter dynamically, that's why tried to use the post method but it did not work properly, I also tried string formatting, and finally I conclude, if we scrape some pages then it will be better to take the URL directly modified by some click rather then typing and filling two parameters for one value like Tx_Commodity: 17, Tx_CommodityHead: Apple for Apple.\n",
    "and we can also scrap any website table by using only one function of the pandas called pd.read_html.**"
   ]
  },
  {
   "cell_type": "code",
   "execution_count": null,
   "metadata": {},
   "outputs": [],
   "source": []
  }
 ],
 "metadata": {
  "colab": {
   "provenance": []
  },
  "kernelspec": {
   "display_name": "Python 3 (ipykernel)",
   "language": "python",
   "name": "python3"
  },
  "language_info": {
   "codemirror_mode": {
    "name": "ipython",
    "version": 3
   },
   "file_extension": ".py",
   "mimetype": "text/x-python",
   "name": "python",
   "nbconvert_exporter": "python",
   "pygments_lexer": "ipython3",
   "version": "3.10.4"
  },
  "toc": {
   "base_numbering": 1,
   "nav_menu": {},
   "number_sections": true,
   "sideBar": true,
   "skip_h1_title": false,
   "title_cell": "Table of Contents",
   "title_sidebar": "Contents",
   "toc_cell": false,
   "toc_position": {},
   "toc_section_display": true,
   "toc_window_display": false
  }
 },
 "nbformat": 4,
 "nbformat_minor": 1
}
