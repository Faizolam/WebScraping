{
 "cells": [
  {
   "cell_type": "markdown",
   "metadata": {
    "id": "8xQ98nFyk5mz"
   },
   "source": [
    "## Final Code"
   ]
  },
  {
   "cell_type": "code",
   "execution_count": 20,
   "metadata": {
    "id": "CUEJzQXik7l2"
   },
   "outputs": [],
   "source": [
    "import requests\n",
    "from bs4 import BeautifulSoup"
   ]
  },
  {
   "cell_type": "code",
   "execution_count": 21,
   "metadata": {
    "id": "v1BSFPEAT0Y1"
   },
   "outputs": [],
   "source": [
    "tomatoUrl = 'https://agmarknet.gov.in/SearchCmmMkt.aspx?Tx_Commodity=78&Tx_State=MH&Tx_District=14&Tx_Market=0&DateFrom=20-Oct-2021&DateTo=21-Oct-2021&Fr_Date=20-Oct-2021&To_Date=21-Oct-2021&Tx_Trend=0&Tx_CommodityHead=Tomato&Tx_StateHead=Maharashtra&Tx_DistrictHead=Pune&Tx_MarketHead=--Select--'"
   ]
  },
  {
   "cell_type": "code",
   "execution_count": 22,
   "metadata": {
    "colab": {
     "base_uri": "https://localhost:8080/"
    },
    "id": "XieOCIRqqSAh",
    "outputId": "07aa62da-a336-4ad7-9faf-587243edb830"
   },
   "outputs": [
    {
     "name": "stdout",
     "output_type": "stream",
     "text": [
      "CSV file created\n"
     ]
    }
   ],
   "source": [
    "def getTomatoUrl(tomatoUrl):\n",
    "  response = requests.get(tomatoUrl)\n",
    "  if response.status_code != 200:\n",
    "    raise Exception('Failed to load page {}'.format(tomatoUrl))\n",
    "  soup = BeautifulSoup(response.text, 'html.parser')\n",
    "  return soup\n",
    "tableSelect = 'tableagmark_new'\n",
    "tableTag = getTomatoUrl(tomatoUrl).find('table', {'class': tableSelect})  \n",
    "header = []\n",
    "for i in tableTag.find_all('th'):\n",
    "    title = i.text.strip()\n",
    "    header.append(title)\n",
    "lisData=[]\n",
    "for r in tableTag.find_all('tr')[1:]:\n",
    "    data=r.find_all('td')\n",
    "    tData = [td.text.strip() for td in data]\n",
    "    lisData.append(tData)\n",
    "with open('Tomato Price.csv', 'w') as csvFile:\n",
    "  csvFile.write(','.join(header) + '\\n')\n",
    "  for row in lisData:\n",
    "      csvFile.write(','.join(row) + '\\n')\n",
    "print(\"CSV file created\")    "
   ]
  },
  {
   "cell_type": "code",
   "execution_count": 23,
   "metadata": {
    "colab": {
     "base_uri": "https://localhost:8080/"
    },
    "id": "iRM7GlG0WpqA",
    "outputId": "1ddd130a-1f90-4e57-c158-a3e5446d69e2"
   },
   "outputs": [
    {
     "name": "stdout",
     "output_type": "stream",
     "text": [
      "['Sl no.', 'District Name', 'Market Name', 'Commodity', 'Variety', 'Grade', 'Min Price (Rs./Quintal)', 'Max Price (Rs./Quintal)', 'Modal Price (Rs./Quintal)', 'Price Date']\n"
     ]
    }
   ],
   "source": [
    "print(header)"
   ]
  },
  {
   "cell_type": "code",
   "execution_count": 24,
   "metadata": {
    "colab": {
     "base_uri": "https://localhost:8080/"
    },
    "id": "BVXZJLlo8Hek",
    "outputId": "f909d2ec-6e4f-4b8c-9c08-57d5c784ddee"
   },
   "outputs": [
    {
     "name": "stdout",
     "output_type": "stream",
     "text": [
      "[['1', 'Pune', 'Junnar(Narayangaon)', 'Tomato', 'Local', 'FAQ', '2500', '4250', '3200', '21 Oct 2021'], ['2', 'Pune', 'Junnar(Narayangaon)', 'Tomato', 'Local', 'FAQ', '2000', '4000', '3000', '20 Oct 2021'], ['3', 'Pune', 'Khed(Chakan)', 'Tomato', 'Other', 'FAQ', '2500', '3500', '3000', '21 Oct 2021'], ['4', 'Pune', 'Khed(Chakan)', 'Tomato', 'Other', 'FAQ', '2000', '4000', '3000', '20 Oct 2021'], ['5', 'Pune', 'Maanachar', 'Tomato', 'Other', 'FAQ', '1000', '3000', '2485', '21 Oct 2021'], ['6', 'Pune', 'Maanachar', 'Tomato', 'Other', 'FAQ', '1000', '4000', '2585', '20 Oct 2021'], ['7', 'Pune', 'Pune', 'Tomato', 'Local', 'FAQ', '1500', '3500', '2500', '21 Oct 2021'], ['8', 'Pune', 'Pune', 'Tomato', 'Local', 'FAQ', '1400', '4000', '2700', '20 Oct 2021'], ['9', 'Pune', 'Pune(Khadiki)', 'Tomato', 'Local', 'FAQ', '1300', '2900', '1800', '21 Oct 2021'], ['10', 'Pune', 'Pune(Khadiki)', 'Tomato', 'Local', 'FAQ', '1500', '3000', '2250', '20 Oct 2021'], ['11', 'Pune', 'Pune(Manjri)', 'Tomato', 'Other', 'FAQ', '2700', '4100', '3600', '21 Oct 2021'], ['12', 'Pune', 'Pune(Manjri)', 'Tomato', 'Other', 'FAQ', '2300', '4000', '3100', '20 Oct 2021'], ['13', 'Pune', 'Pune(Moshi)', 'Tomato', 'Local', 'FAQ', '1800', '2000', '1900', '21 Oct 2021'], ['14', 'Pune', 'Pune(Pimpri)', 'Tomato', 'Local', 'FAQ', '3000', '4000', '3500', '21 Oct 2021'], ['15', 'Pune', 'Pune(Pimpri)', 'Tomato', 'Local', 'FAQ', '3000', '4200', '3600', '20 Oct 2021']]\n"
     ]
    }
   ],
   "source": [
    "print(lisData)"
   ]
  },
  {
   "cell_type": "code",
   "execution_count": 24,
   "metadata": {
    "id": "6vCVyuYGWcsm"
   },
   "outputs": [],
   "source": []
  }
 ],
 "metadata": {
  "colab": {
   "provenance": []
  },
  "kernelspec": {
   "display_name": "Python 3 (ipykernel)",
   "language": "python",
   "name": "python3"
  },
  "language_info": {
   "codemirror_mode": {
    "name": "ipython",
    "version": 3
   },
   "file_extension": ".py",
   "mimetype": "text/x-python",
   "name": "python",
   "nbconvert_exporter": "python",
   "pygments_lexer": "ipython3",
   "version": "3.10.4"
  },
  "toc": {
   "base_numbering": 1,
   "nav_menu": {},
   "number_sections": true,
   "sideBar": true,
   "skip_h1_title": false,
   "title_cell": "Table of Contents",
   "title_sidebar": "Contents",
   "toc_cell": false,
   "toc_position": {},
   "toc_section_display": true,
   "toc_window_display": false
  }
 },
 "nbformat": 4,
 "nbformat_minor": 1
}
